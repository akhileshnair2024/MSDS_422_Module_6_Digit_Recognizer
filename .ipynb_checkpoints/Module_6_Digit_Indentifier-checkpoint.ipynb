{
 "cells": [
  {
   "cell_type": "code",
   "execution_count": null,
   "metadata": {},
   "outputs": [],
   "source": [
    "pip install --upgrade pip"
   ]
  },
  {
   "cell_type": "code",
   "execution_count": null,
   "metadata": {
    "colab": {
     "base_uri": "https://localhost:8080/"
    },
    "id": "xJruxxMj_wHI",
    "outputId": "85b85836-2efc-492d-d2df-3bc8f6ac609c"
   },
   "outputs": [],
   "source": [
    "pip install --upgrade scikit-plot --user"
   ]
  },
  {
   "cell_type": "markdown",
   "metadata": {},
   "source": [
    "# Data Load and Exploratory Data Analysis"
   ]
  },
  {
   "cell_type": "code",
   "execution_count": 399,
   "metadata": {
    "id": "8P362XzxAnkJ"
   },
   "outputs": [],
   "source": [
    "# Loading in packages into environment\n",
    "import pandas as pd\n",
    "import numpy as np\n",
    "import matplotlib\n",
    "import matplotlib.pyplot as plt\n",
    "import seaborn as sns\n",
    "import string as string\n",
    "import os as os\n",
    "\n",
    "import time\n",
    "\n",
    "from sklearn.model_selection import train_test_split\n",
    "\n",
    "from sklearn.model_selection import GridSearchCV, RepeatedKFold, RandomizedSearchCV\n",
    "from sklearn.linear_model import LogisticRegression\n",
    "from sklearn.ensemble import RandomForestClassifier\n",
    "from sklearn.datasets import make_classification\n",
    "from sklearn.neighbors import KNeighborsClassifier\n",
    "\n",
    "from sklearn.metrics import precision_recall_curve\n",
    "from sklearn.metrics import average_precision_score\n",
    "from sklearn.metrics import confusion_matrix\n",
    "from sklearn.metrics import precision_score, recall_score\n",
    "from sklearn.metrics import roc_auc_score, f1_score,auc\n",
    "from sklearn.metrics import roc_curve,accuracy_score\n",
    "\n",
    "\n",
    "sns.set_style(\"whitegrid\")"
   ]
  },
  {
   "cell_type": "code",
   "execution_count": 400,
   "metadata": {
    "id": "W09R8LTsA7us"
   },
   "outputs": [],
   "source": [
    "train = pd.read_csv('train.csv.zip')\n",
    "test = pd.read_csv('test.csv.zip')\n",
    "ss = pd.read_csv('sample_submission.csv')"
   ]
  },
  {
   "cell_type": "code",
   "execution_count": 401,
   "metadata": {
    "colab": {
     "base_uri": "https://localhost:8080/",
     "height": 255
    },
    "id": "NLousTi4Bh_O",
    "outputId": "350079d0-6c5e-4b1e-bbbe-2a1d0d14f0f1"
   },
   "outputs": [
    {
     "data": {
      "text/html": [
       "<div>\n",
       "<style scoped>\n",
       "    .dataframe tbody tr th:only-of-type {\n",
       "        vertical-align: middle;\n",
       "    }\n",
       "\n",
       "    .dataframe tbody tr th {\n",
       "        vertical-align: top;\n",
       "    }\n",
       "\n",
       "    .dataframe thead th {\n",
       "        text-align: right;\n",
       "    }\n",
       "</style>\n",
       "<table border=\"1\" class=\"dataframe\">\n",
       "  <thead>\n",
       "    <tr style=\"text-align: right;\">\n",
       "      <th></th>\n",
       "      <th>label</th>\n",
       "      <th>pixel0</th>\n",
       "      <th>pixel1</th>\n",
       "      <th>pixel2</th>\n",
       "      <th>pixel3</th>\n",
       "      <th>pixel4</th>\n",
       "      <th>pixel5</th>\n",
       "      <th>pixel6</th>\n",
       "      <th>pixel7</th>\n",
       "      <th>pixel8</th>\n",
       "      <th>...</th>\n",
       "      <th>pixel774</th>\n",
       "      <th>pixel775</th>\n",
       "      <th>pixel776</th>\n",
       "      <th>pixel777</th>\n",
       "      <th>pixel778</th>\n",
       "      <th>pixel779</th>\n",
       "      <th>pixel780</th>\n",
       "      <th>pixel781</th>\n",
       "      <th>pixel782</th>\n",
       "      <th>pixel783</th>\n",
       "    </tr>\n",
       "  </thead>\n",
       "  <tbody>\n",
       "    <tr>\n",
       "      <th>0</th>\n",
       "      <td>1</td>\n",
       "      <td>0</td>\n",
       "      <td>0</td>\n",
       "      <td>0</td>\n",
       "      <td>0</td>\n",
       "      <td>0</td>\n",
       "      <td>0</td>\n",
       "      <td>0</td>\n",
       "      <td>0</td>\n",
       "      <td>0</td>\n",
       "      <td>...</td>\n",
       "      <td>0</td>\n",
       "      <td>0</td>\n",
       "      <td>0</td>\n",
       "      <td>0</td>\n",
       "      <td>0</td>\n",
       "      <td>0</td>\n",
       "      <td>0</td>\n",
       "      <td>0</td>\n",
       "      <td>0</td>\n",
       "      <td>0</td>\n",
       "    </tr>\n",
       "    <tr>\n",
       "      <th>1</th>\n",
       "      <td>0</td>\n",
       "      <td>0</td>\n",
       "      <td>0</td>\n",
       "      <td>0</td>\n",
       "      <td>0</td>\n",
       "      <td>0</td>\n",
       "      <td>0</td>\n",
       "      <td>0</td>\n",
       "      <td>0</td>\n",
       "      <td>0</td>\n",
       "      <td>...</td>\n",
       "      <td>0</td>\n",
       "      <td>0</td>\n",
       "      <td>0</td>\n",
       "      <td>0</td>\n",
       "      <td>0</td>\n",
       "      <td>0</td>\n",
       "      <td>0</td>\n",
       "      <td>0</td>\n",
       "      <td>0</td>\n",
       "      <td>0</td>\n",
       "    </tr>\n",
       "    <tr>\n",
       "      <th>2</th>\n",
       "      <td>1</td>\n",
       "      <td>0</td>\n",
       "      <td>0</td>\n",
       "      <td>0</td>\n",
       "      <td>0</td>\n",
       "      <td>0</td>\n",
       "      <td>0</td>\n",
       "      <td>0</td>\n",
       "      <td>0</td>\n",
       "      <td>0</td>\n",
       "      <td>...</td>\n",
       "      <td>0</td>\n",
       "      <td>0</td>\n",
       "      <td>0</td>\n",
       "      <td>0</td>\n",
       "      <td>0</td>\n",
       "      <td>0</td>\n",
       "      <td>0</td>\n",
       "      <td>0</td>\n",
       "      <td>0</td>\n",
       "      <td>0</td>\n",
       "    </tr>\n",
       "    <tr>\n",
       "      <th>3</th>\n",
       "      <td>4</td>\n",
       "      <td>0</td>\n",
       "      <td>0</td>\n",
       "      <td>0</td>\n",
       "      <td>0</td>\n",
       "      <td>0</td>\n",
       "      <td>0</td>\n",
       "      <td>0</td>\n",
       "      <td>0</td>\n",
       "      <td>0</td>\n",
       "      <td>...</td>\n",
       "      <td>0</td>\n",
       "      <td>0</td>\n",
       "      <td>0</td>\n",
       "      <td>0</td>\n",
       "      <td>0</td>\n",
       "      <td>0</td>\n",
       "      <td>0</td>\n",
       "      <td>0</td>\n",
       "      <td>0</td>\n",
       "      <td>0</td>\n",
       "    </tr>\n",
       "    <tr>\n",
       "      <th>4</th>\n",
       "      <td>0</td>\n",
       "      <td>0</td>\n",
       "      <td>0</td>\n",
       "      <td>0</td>\n",
       "      <td>0</td>\n",
       "      <td>0</td>\n",
       "      <td>0</td>\n",
       "      <td>0</td>\n",
       "      <td>0</td>\n",
       "      <td>0</td>\n",
       "      <td>...</td>\n",
       "      <td>0</td>\n",
       "      <td>0</td>\n",
       "      <td>0</td>\n",
       "      <td>0</td>\n",
       "      <td>0</td>\n",
       "      <td>0</td>\n",
       "      <td>0</td>\n",
       "      <td>0</td>\n",
       "      <td>0</td>\n",
       "      <td>0</td>\n",
       "    </tr>\n",
       "  </tbody>\n",
       "</table>\n",
       "<p>5 rows × 785 columns</p>\n",
       "</div>"
      ],
      "text/plain": [
       "   label  pixel0  pixel1  pixel2  pixel3  pixel4  pixel5  pixel6  pixel7  \\\n",
       "0      1       0       0       0       0       0       0       0       0   \n",
       "1      0       0       0       0       0       0       0       0       0   \n",
       "2      1       0       0       0       0       0       0       0       0   \n",
       "3      4       0       0       0       0       0       0       0       0   \n",
       "4      0       0       0       0       0       0       0       0       0   \n",
       "\n",
       "   pixel8  ...  pixel774  pixel775  pixel776  pixel777  pixel778  pixel779  \\\n",
       "0       0  ...         0         0         0         0         0         0   \n",
       "1       0  ...         0         0         0         0         0         0   \n",
       "2       0  ...         0         0         0         0         0         0   \n",
       "3       0  ...         0         0         0         0         0         0   \n",
       "4       0  ...         0         0         0         0         0         0   \n",
       "\n",
       "   pixel780  pixel781  pixel782  pixel783  \n",
       "0         0         0         0         0  \n",
       "1         0         0         0         0  \n",
       "2         0         0         0         0  \n",
       "3         0         0         0         0  \n",
       "4         0         0         0         0  \n",
       "\n",
       "[5 rows x 785 columns]"
      ]
     },
     "execution_count": 401,
     "metadata": {},
     "output_type": "execute_result"
    }
   ],
   "source": [
    "train.head()"
   ]
  },
  {
   "cell_type": "code",
   "execution_count": 402,
   "metadata": {
    "colab": {
     "base_uri": "https://localhost:8080/"
    },
    "id": "DjvgI_jxBn2D",
    "outputId": "407e0f8c-7454-4bfb-bdc4-509cdf726b33"
   },
   "outputs": [
    {
     "name": "stdout",
     "output_type": "stream",
     "text": [
      "<class 'pandas.core.frame.DataFrame'>\n",
      "RangeIndex: 42000 entries, 0 to 41999\n",
      "Columns: 785 entries, label to pixel783\n",
      "dtypes: int64(785)\n",
      "memory usage: 251.5 MB\n"
     ]
    }
   ],
   "source": [
    "train.info()"
   ]
  },
  {
   "cell_type": "code",
   "execution_count": 403,
   "metadata": {},
   "outputs": [
    {
     "data": {
      "text/plain": [
       "False"
      ]
     },
     "execution_count": 403,
     "metadata": {},
     "output_type": "execute_result"
    }
   ],
   "source": [
    "train.isnull().values.any()"
   ]
  },
  {
   "cell_type": "markdown",
   "metadata": {},
   "source": [
    "## Defining functions that will help our assignment"
   ]
  },
  {
   "cell_type": "code",
   "execution_count": 421,
   "metadata": {},
   "outputs": [],
   "source": [
    "#timing to fit\n",
    "def fit_with_time(model,X=X,y=y):\n",
    "  model_name = type(model).__name__\n",
    "  t0 = time.time()\n",
    "  if y is None:\n",
    "    model.fit(X)\n",
    "  else:\n",
    "    model.fit(X,y)\n",
    "  \n",
    "  TrainTime = time.time()-t0\n",
    "  print(f'The model {model_name} took {pcaTrainTime: .1f} seconds to train')\n",
    "  return model"
   ]
  },
  {
   "cell_type": "markdown",
   "metadata": {},
   "source": [
    "## Inspecting one example"
   ]
  },
  {
   "cell_type": "code",
   "execution_count": null,
   "metadata": {},
   "outputs": [],
   "source": [
    "def plot_numbers(row):\n",
    "  nrow = 0\n",
    "  ncol = 0\n",
    "  plt.imshow(\n",
    "    row.values.reshape(28, 28)\n",
    "    ,cmap=\"binary\"\n",
    "  )\n",
    "  plt.axis(\"off\")"
   ]
  },
  {
   "cell_type": "code",
   "execution_count": null,
   "metadata": {},
   "outputs": [],
   "source": [
    "index_random = np.random.randint(low = 0, high = 42000)\n",
    "\n",
    "plot_numbers(train.iloc[index_random,1:])\n",
    "\n",
    "print(f'Sample observation / index: {index_random}')\n",
    "\n",
    "print(f'\\nThe Number shown is : {train.iloc[index_random,0]}')"
   ]
  },
  {
   "cell_type": "code",
   "execution_count": null,
   "metadata": {},
   "outputs": [],
   "source": [
    "test.head()"
   ]
  },
  {
   "cell_type": "code",
   "execution_count": null,
   "metadata": {},
   "outputs": [],
   "source": [
    "test.info()"
   ]
  },
  {
   "cell_type": "code",
   "execution_count": null,
   "metadata": {},
   "outputs": [],
   "source": [
    "test.isnull().values.any()"
   ]
  },
  {
   "cell_type": "code",
   "execution_count": null,
   "metadata": {
    "colab": {
     "base_uri": "https://localhost:8080/",
     "height": 255
    },
    "id": "2uQVmGnIBw-s",
    "outputId": "29403c2b-f739-48f1-8baa-317c41b63330"
   },
   "outputs": [],
   "source": [
    "test.head()"
   ]
  },
  {
   "cell_type": "code",
   "execution_count": null,
   "metadata": {
    "colab": {
     "base_uri": "https://localhost:8080/"
    },
    "id": "abFYXCuiBypX",
    "outputId": "978430d0-9c6f-4a43-84e7-86eb1a29fb14"
   },
   "outputs": [],
   "source": [
    "test.info()"
   ]
  },
  {
   "cell_type": "code",
   "execution_count": null,
   "metadata": {
    "colab": {
     "base_uri": "https://localhost:8080/"
    },
    "id": "_6C3klkZOFnv",
    "outputId": "0db3d1ba-4359-48b8-c9f1-7cd6f6665018"
   },
   "outputs": [],
   "source": [
    "train.isnull().values.any()"
   ]
  },
  {
   "cell_type": "code",
   "execution_count": null,
   "metadata": {
    "colab": {
     "base_uri": "https://localhost:8080/",
     "height": 349
    },
    "id": "iWzjghXkOJ5b",
    "outputId": "987ec3ff-29db-4b05-f8d0-1ab908f11c03"
   },
   "outputs": [],
   "source": [
    "train.describe()"
   ]
  },
  {
   "cell_type": "code",
   "execution_count": null,
   "metadata": {
    "id": "yKp5e-T7O1gy"
   },
   "outputs": [],
   "source": [
    "null_data = train[train.isnull().any(axis=1)]"
   ]
  },
  {
   "cell_type": "code",
   "execution_count": null,
   "metadata": {
    "colab": {
     "base_uri": "https://localhost:8080/",
     "height": 98
    },
    "id": "aCPV9OHrPDjo",
    "outputId": "e0535df3-98f6-4ac7-d2e6-f065698c3e86"
   },
   "outputs": [],
   "source": [
    "null_data.head()"
   ]
  },
  {
   "cell_type": "code",
   "execution_count": null,
   "metadata": {
    "colab": {
     "base_uri": "https://localhost:8080/",
     "height": 349
    },
    "id": "Z6RhoIPfPdxk",
    "outputId": "c21cced1-be96-4967-edc3-fb46e7c94b0b"
   },
   "outputs": [],
   "source": [
    "train.describe()"
   ]
  },
  {
   "cell_type": "code",
   "execution_count": null,
   "metadata": {},
   "outputs": [],
   "source": [
    "# combining training and test data\n",
    "df_combined = pd.concat([train, test])"
   ]
  },
  {
   "cell_type": "code",
   "execution_count": null,
   "metadata": {},
   "outputs": [],
   "source": [
    "train.shape,test.shape,df_combined.shape"
   ]
  },
  {
   "cell_type": "markdown",
   "metadata": {},
   "source": [
    "## Assignment requirements:\n",
    "\n",
    "### Requirement 1 & 2: Random Forest Classifier, Time Recording, Evaluation & Submission"
   ]
  },
  {
   "cell_type": "markdown",
   "metadata": {
    "id": "w1qCUL3-DDgH"
   },
   "source": [
    "#### 1. Fit a random forest classifier using the full set of explanatory variables and the model training set (csv).\n",
    "\n",
    "#### 2. Record the time it takes to fit the model and then evaluate the model on the csvdata by submitting to Kaggle.com. Provide your Kaggle.com score and user ID."
   ]
  },
  {
   "cell_type": "code",
   "execution_count": null,
   "metadata": {
    "id": "ZU67HEroGwzN"
   },
   "outputs": [],
   "source": [
    "# Defining Random Forest Model\n",
    "model = RandomForestClassifier"
   ]
  },
  {
   "cell_type": "code",
   "execution_count": null,
   "metadata": {
    "id": "Lt_DSbtdM3D5"
   },
   "outputs": [],
   "source": [
    "X = df_combined.iloc[:42000,1:]\n",
    "y = df_combined.iloc[:42000,0]"
   ]
  },
  {
   "cell_type": "code",
   "execution_count": null,
   "metadata": {
    "id": "x5a0-YKkLXxG"
   },
   "outputs": [],
   "source": [
    "X_train, X_test, y_train, y_test = train_test_split(X, y, test_size=0.2, random_state=42)"
   ]
  },
  {
   "cell_type": "code",
   "execution_count": null,
   "metadata": {
    "id": "gImHCXITHZ3y"
   },
   "outputs": [],
   "source": [
    "rfc = RandomForestClassifier(n_jobs = -1)"
   ]
  },
  {
   "cell_type": "code",
   "execution_count": null,
   "metadata": {},
   "outputs": [],
   "source": [
    "param_distributions = {\n",
    "  'n_estimators': np.arange(50, 500)#[100,200,400]\n",
    "  ,'max_features': ['sqrt'] #['sqrt', 'log2']\n",
    "  ,'max_depth' : [20]#[20,25]\n",
    "  #,'min_samples_split': [10]\n",
    "  ,'criterion' : ['entropy']\n",
    "  ,'random_state' : [42]\n",
    "}\n",
    "\n",
    "#keep entropy"
   ]
  },
  {
   "cell_type": "code",
   "execution_count": null,
   "metadata": {},
   "outputs": [],
   "source": [
    "CV_rfc = GridSearchCV(\n",
    "  estimator = rfc\n",
    "  ,param_distributions=param_distributions\n",
    "  ,cv = 5\n",
    "  ,n_iter=10\n",
    "  ,random_state=42\n",
    ")"
   ]
  },
  {
   "cell_type": "code",
   "execution_count": null,
   "metadata": {},
   "outputs": [],
   "source": [
    "CV_rfc.fit(X_train, y_train)"
   ]
  },
  {
   "cell_type": "code",
   "execution_count": null,
   "metadata": {},
   "outputs": [],
   "source": [
    "best_param_rdc = CV_rfc.best_params_\n",
    "best_model_rdc = CV_rfc.best_estimator_"
   ]
  },
  {
   "cell_type": "code",
   "execution_count": null,
   "metadata": {},
   "outputs": [],
   "source": [
    "best_param_rdc"
   ]
  },
  {
   "cell_type": "code",
   "execution_count": 422,
   "metadata": {
    "id": "NMT7P6JaNXHQ"
   },
   "outputs": [
    {
     "name": "stdout",
     "output_type": "stream",
     "text": [
      "The model RandomForestClassifier took  2.3 seconds to train\n",
      "Accuracy of the best random forest classifier is:  0.96\n"
     ]
    }
   ],
   "source": [
    "best_model_rdc = fit_with_time(best_model_rdc,X_train,y_train)\n",
    "\n",
    "#Make Predictions\n",
    "y_pred = best_model_rdc.predict(X_test)\n",
    "\n",
    "#Evaluate the model\n",
    "accuracy = accuracy_score(y_test,y_pred)\n",
    "print(f\"Accuracy of the best random forest classifier is: {accuracy: .2f}\")"
   ]
  },
  {
   "cell_type": "code",
   "execution_count": null,
   "metadata": {},
   "outputs": [],
   "source": [
    "X_submission = df_combined.iloc[42000:,1:]\n",
    "X_submission.shape"
   ]
  },
  {
   "cell_type": "code",
   "execution_count": null,
   "metadata": {},
   "outputs": [],
   "source": [
    "#Predict the results for submission\n",
    "X_submission_rfc = df_combined.iloc[42000:,1:]\n",
    "y_submission_rfc = best_model_rdc.predict(X_submission)"
   ]
  },
  {
   "cell_type": "code",
   "execution_count": null,
   "metadata": {
    "id": "u5rZwWM4M9BT"
   },
   "outputs": [],
   "source": [
    "models = {\n",
    "    'BestRandomForestClassifier' : y_submission_rfc\n",
    "}"
   ]
  },
  {
   "cell_type": "code",
   "execution_count": null,
   "metadata": {
    "colab": {
     "base_uri": "https://localhost:8080/"
    },
    "id": "14sav4JrLQg7",
    "outputId": "1407c400-531a-4a47-e478-b964d5eae7f8"
   },
   "outputs": [],
   "source": [
    "submission_df = pd.read_csv('sample_submission.csv')\n",
    "submission_df.info()"
   ]
  },
  {
   "cell_type": "code",
   "execution_count": null,
   "metadata": {
    "colab": {
     "base_uri": "https://localhost:8080/"
    },
    "id": "MDi30q2JMRkh",
    "outputId": "ae21cdf8-5d6b-4289-b6e9-01b95aa412f8"
   },
   "outputs": [],
   "source": [
    "for model_desc, numpy_array in models.items():\n",
    "\n",
    "    submission_df.Label = numpy_array\n",
    "\n",
    "    submission_df.to_csv(\n",
    "        'MSDS422_assignment_06_'+model_desc+'.csv'\n",
    "        , index=False\n",
    "    )\n",
    "print('You can submit all models to Kaggle website! :-)')"
   ]
  },
  {
   "cell_type": "code",
   "execution_count": 423,
   "metadata": {},
   "outputs": [
    {
     "name": "stdout",
     "output_type": "stream",
     "text": [
      "Sample observation / index: 3\n"
     ]
    },
    {
     "data": {
      "image/png": "[encoded data removed]",
      "text/plain": [
       "<Figure size 432x288 with 1 Axes>"
      ]
     },
     "metadata": {},
     "output_type": "display_data"
    }
   ],
   "source": [
    "index = 42000+3\n",
    "plot_numbers(df_combined.iloc[index,1:])\n",
    "\n",
    "print(f'Sample observation / index: {index-42000}')"
   ]
  },
  {
   "cell_type": "markdown",
   "metadata": {
    "id": "kCGHJh-mOPDm"
   },
   "source": [
    "### Requirements 3 & 4: Combining the training and test data + Recording PCA runtime  "
   ]
  },
  {
   "cell_type": "code",
   "execution_count": 437,
   "metadata": {},
   "outputs": [
    {
     "name": "stdout",
     "output_type": "stream",
     "text": [
      "PCA Training Time:  2.4\n",
      "\n",
      "Number of dimensions : 154\n"
     ]
    }
   ],
   "source": [
    "from sklearn.decomposition import PCA\n",
    "\n",
    "X = df_combined.iloc[:42000,1:]\n",
    "\n",
    "pca = PCA(n_components=0.95) #95% of variability\n",
    "\n",
    "t0 = time.time()\n",
    "pca.fit(X)\n",
    "pcaTrainTime = time.time()-t0\n",
    "\n",
    "dim_pca = pca.n_components_\n",
    "\n",
    "print(f'PCA Training Time: {pcaTrainTime: .1f}')\n",
    "print(f'\\nNumber of dimensions : {dim_pca}')"
   ]
  },
  {
   "cell_type": "code",
   "execution_count": 441,
   "metadata": {
    "colab": {
     "base_uri": "https://localhost:8080/"
    },
    "id": "LhM5Yi6JO1_q",
    "outputId": "6e9b899d-013f-4a6a-feb3-72f5ba6836fc"
   },
   "outputs": [
    {
     "name": "stdout",
     "output_type": "stream",
     "text": [
      "PCA Training Time:  2.268531084060669\n"
     ]
    }
   ],
   "source": [
    "# using 150 n_components to achieve 95% variability as defined in the lecture\n",
    "# then transforming the data for better performance\n",
    "pca = PCA(n_components=dim_pca)\n",
    "t0 = time.time()\n",
    "pca.fit(X)\n",
    "pcaTrainTime = time.time()-t0\n",
    "print('PCA Training Time: ', pcaTrainTime)\n",
    "transform = pca.transform(X)\n",
    "\n",
    "X_train_transform = pca.transform(X_train)"
   ]
  },
  {
   "cell_type": "code",
   "execution_count": 434,
   "metadata": {},
   "outputs": [],
   "source": [
    "from sklearn.pipeline import make_pipeline\n",
    "\n",
    "clf = make_pipeline(\n",
    "  PCA(n_components=dim_pca,random_state=42)\n",
    "  ,RandomForestClassifier(random_state=42\n",
    "                          ,n_estimators=100\n",
    "                          ,max_features='sqrt'\n",
    "                          ,max_depth = 20\n",
    "                          ,criterion = 'entropy'\n",
    "                         )\n",
    ")\n",
    "\n",
    "clf_simple = make_pipeline(\n",
    "RandomForestClassifier(random_state=42\n",
    "                          ,n_estimators=100\n",
    "                          ,max_features='sqrt'\n",
    "                          ,max_depth = 20\n",
    "                          ,criterion = 'entropy'\n",
    "                         )\n",
    ")"
   ]
  },
  {
   "cell_type": "code",
   "execution_count": 430,
   "metadata": {},
   "outputs": [],
   "source": [
    "param_distributions = {\n",
    "  'randomforestclassifier__n_estimators': [100]#[100,200,400] np.arange(50, 500)\n",
    "  ,'randomforestclassifier__max_features': ['sqrt'] #['sqrt', 'log2']\n",
    "  ,'randomforestclassifier__max_depth' : [20]#[20,25]np.arange(20,30)\n",
    "  #,'rfc__min_samples_split': [10]\n",
    "  ,'randomforestclassifier__criterion' : ['entropy']\n",
    "}\n",
    "#RandomizedSearchCV\n",
    "#rnd_search = GridSearchCV(\n",
    "#  clf\n",
    "#  ,param_distributions\n",
    "#  #,n_iter=10\n",
    "#  ,cv=5\n",
    "#  #,random_state=42\n",
    "#)\n",
    "\n",
    "t0 = time.time()\n",
    "#rnd_search.fit(X_train, y_train)\n",
    "clf.fit(X_train, y_train)\n",
    "PcaRandomForestTrainTime = time.time()-t0"
   ]
  },
  {
   "cell_type": "code",
   "execution_count": null,
   "metadata": {},
   "outputs": [],
   "source": [
    "print(rnd_search.best_params_)"
   ]
  },
  {
   "cell_type": "code",
   "execution_count": 431,
   "metadata": {},
   "outputs": [
    {
     "data": {
      "text/plain": [
       "151.62734150886536"
      ]
     },
     "execution_count": 431,
     "metadata": {},
     "output_type": "execute_result"
    }
   ],
   "source": [
    "PcaRandomForestTrainTime"
   ]
  },
  {
   "cell_type": "code",
   "execution_count": 442,
   "metadata": {},
   "outputs": [],
   "source": [
    "t0 = time.time()\n",
    "#rnd_search.fit(X_train, y_train)\n",
    "clf_simple.fit(X_train_transform, y_train)\n",
    "PcaRandomForestTrainTime_2 = time.time()-t0"
   ]
  },
  {
   "cell_type": "code",
   "execution_count": 443,
   "metadata": {},
   "outputs": [
    {
     "data": {
      "text/plain": [
       "141.15136003494263"
      ]
     },
     "execution_count": 443,
     "metadata": {},
     "output_type": "execute_result"
    }
   ],
   "source": [
    "PcaRandomForestTrainTime_2"
   ]
  },
  {
   "cell_type": "markdown",
   "metadata": {},
   "source": [
    "#### Use k-means clustering to group MNIST observations into 1 of 10 categories and then assign labels. "
   ]
  },
  {
   "cell_type": "code",
   "execution_count": null,
   "metadata": {},
   "outputs": [],
   "source": []
  }
 ],
 "metadata": {
  "colab": {
   "provenance": []
  },
  "kernelspec": {
   "display_name": "Python 3",
   "language": "python",
   "name": "python3"
  },
  "language_info": {
   "codemirror_mode": {
    "name": "ipython",
    "version": 3
   },
   "file_extension": ".py",
   "mimetype": "text/x-python",
   "name": "python",
   "nbconvert_exporter": "python",
   "pygments_lexer": "ipython3",
   "version": "3.8.8"
  }
 },
 "nbformat": 4,
 "nbformat_minor": 4
}
